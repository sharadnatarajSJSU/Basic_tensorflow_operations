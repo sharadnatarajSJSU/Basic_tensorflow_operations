{
  "nbformat": 4,
  "nbformat_minor": 0,
  "metadata": {
    "colab": {
      "name": "CMPE 257 assignment 4 - deep nerual network keras",
      "provenance": [],
      "mount_file_id": "1jjF3S3MuqduAS2ZF0bBnmUZbsaaYkGMp",
      "authorship_tag": "ABX9TyN3hJGHJlM6nIPq6OEsXjyW",
      "include_colab_link": true
    },
    "kernelspec": {
      "name": "python3",
      "display_name": "Python 3"
    },
    "language_info": {
      "name": "python"
    }
  },
  "cells": [
    {
      "cell_type": "markdown",
      "metadata": {
        "id": "view-in-github",
        "colab_type": "text"
      },
      "source": [
        "<a href=\"https://colab.research.google.com/github/sharadnatarajSJSU/Basic_tensorflow_operations/blob/main/CMPE_257_assignment_4_deep_nerual_network_keras.ipynb\" target=\"_parent\"><img src=\"https://colab.research.google.com/assets/colab-badge.svg\" alt=\"Open In Colab\"/></a>"
      ]
    },
    {
      "cell_type": "code",
      "execution_count": null,
      "metadata": {
        "id": "5L3L6hdKsCRV"
      },
      "outputs": [],
      "source": [
        "import pandas as pd\n",
        "import numpy as np\n",
        "import keras\n",
        "import tensorflow as tf"
      ]
    },
    {
      "cell_type": "code",
      "source": [
        "merged_data = pd.read_csv('/content/drive/MyDrive/SJSU assignment Docs/Spring 22/CMPE 257/Project Data/df_scaled')"
      ],
      "metadata": {
        "id": "gJ2QR0MVsN7L"
      },
      "execution_count": null,
      "outputs": []
    },
    {
      "cell_type": "markdown",
      "source": [
        "We are using the data from assignment #3 where we have the features that affects the valuation of a house. We have an value index from one of the online real estate agency as our target variable. We will be using neural network to predict the index and evaluate the model"
      ],
      "metadata": {
        "id": "ctUGA6YwsZpP"
      }
    },
    {
      "cell_type": "code",
      "source": [
        "merged_data.head()"
      ],
      "metadata": {
        "colab": {
          "base_uri": "https://localhost:8080/",
          "height": 206
        },
        "id": "o1OukG6cuNYm",
        "outputId": "1fccdef3-448f-4ee1-fc9b-532a3805adbe"
      },
      "execution_count": null,
      "outputs": [
        {
          "output_type": "execute_result",
          "data": {
            "text/plain": [
              "         DATE    ASPUS  PersonNumber      GDP  Mortgage  House  PRAWMINDEXM  \\\n",
              "0  1963-01-01  19300.0  1.352373e+08  243.164      7.33  117.0    72.855085   \n",
              "1  1963-04-01  19400.0  1.530389e+08  245.968      7.31  165.0    83.628605   \n",
              "2  1963-07-01  19200.0  1.530389e+08  249.585      7.31  122.0    83.628605   \n",
              "3  1963-10-01  19600.0  1.357780e+08  259.745      7.31   97.0    76.022077   \n",
              "4  1964-01-01  19600.0  1.530389e+08  265.742      7.29   91.0    83.628605   \n",
              "\n",
              "   Unemployment        Permit  \n",
              "0       3.400000  1092.000000  \n",
              "1       4.820513  1365.820513  \n",
              "2       4.820513  1365.820513  \n",
              "3       3.900000  1016.000000  \n",
              "4       4.820513  1365.820513  "
            ],
            "text/html": [
              "\n",
              "  <div id=\"df-85828127-bd8e-49f0-97cf-efe01bab3ef2\">\n",
              "    <div class=\"colab-df-container\">\n",
              "      <div>\n",
              "<style scoped>\n",
              "    .dataframe tbody tr th:only-of-type {\n",
              "        vertical-align: middle;\n",
              "    }\n",
              "\n",
              "    .dataframe tbody tr th {\n",
              "        vertical-align: top;\n",
              "    }\n",
              "\n",
              "    .dataframe thead th {\n",
              "        text-align: right;\n",
              "    }\n",
              "</style>\n",
              "<table border=\"1\" class=\"dataframe\">\n",
              "  <thead>\n",
              "    <tr style=\"text-align: right;\">\n",
              "      <th></th>\n",
              "      <th>DATE</th>\n",
              "      <th>ASPUS</th>\n",
              "      <th>PersonNumber</th>\n",
              "      <th>GDP</th>\n",
              "      <th>Mortgage</th>\n",
              "      <th>House</th>\n",
              "      <th>PRAWMINDEXM</th>\n",
              "      <th>Unemployment</th>\n",
              "      <th>Permit</th>\n",
              "    </tr>\n",
              "  </thead>\n",
              "  <tbody>\n",
              "    <tr>\n",
              "      <th>0</th>\n",
              "      <td>1963-01-01</td>\n",
              "      <td>19300.0</td>\n",
              "      <td>1.352373e+08</td>\n",
              "      <td>243.164</td>\n",
              "      <td>7.33</td>\n",
              "      <td>117.0</td>\n",
              "      <td>72.855085</td>\n",
              "      <td>3.400000</td>\n",
              "      <td>1092.000000</td>\n",
              "    </tr>\n",
              "    <tr>\n",
              "      <th>1</th>\n",
              "      <td>1963-04-01</td>\n",
              "      <td>19400.0</td>\n",
              "      <td>1.530389e+08</td>\n",
              "      <td>245.968</td>\n",
              "      <td>7.31</td>\n",
              "      <td>165.0</td>\n",
              "      <td>83.628605</td>\n",
              "      <td>4.820513</td>\n",
              "      <td>1365.820513</td>\n",
              "    </tr>\n",
              "    <tr>\n",
              "      <th>2</th>\n",
              "      <td>1963-07-01</td>\n",
              "      <td>19200.0</td>\n",
              "      <td>1.530389e+08</td>\n",
              "      <td>249.585</td>\n",
              "      <td>7.31</td>\n",
              "      <td>122.0</td>\n",
              "      <td>83.628605</td>\n",
              "      <td>4.820513</td>\n",
              "      <td>1365.820513</td>\n",
              "    </tr>\n",
              "    <tr>\n",
              "      <th>3</th>\n",
              "      <td>1963-10-01</td>\n",
              "      <td>19600.0</td>\n",
              "      <td>1.357780e+08</td>\n",
              "      <td>259.745</td>\n",
              "      <td>7.31</td>\n",
              "      <td>97.0</td>\n",
              "      <td>76.022077</td>\n",
              "      <td>3.900000</td>\n",
              "      <td>1016.000000</td>\n",
              "    </tr>\n",
              "    <tr>\n",
              "      <th>4</th>\n",
              "      <td>1964-01-01</td>\n",
              "      <td>19600.0</td>\n",
              "      <td>1.530389e+08</td>\n",
              "      <td>265.742</td>\n",
              "      <td>7.29</td>\n",
              "      <td>91.0</td>\n",
              "      <td>83.628605</td>\n",
              "      <td>4.820513</td>\n",
              "      <td>1365.820513</td>\n",
              "    </tr>\n",
              "  </tbody>\n",
              "</table>\n",
              "</div>\n",
              "      <button class=\"colab-df-convert\" onclick=\"convertToInteractive('df-85828127-bd8e-49f0-97cf-efe01bab3ef2')\"\n",
              "              title=\"Convert this dataframe to an interactive table.\"\n",
              "              style=\"display:none;\">\n",
              "        \n",
              "  <svg xmlns=\"http://www.w3.org/2000/svg\" height=\"24px\"viewBox=\"0 0 24 24\"\n",
              "       width=\"24px\">\n",
              "    <path d=\"M0 0h24v24H0V0z\" fill=\"none\"/>\n",
              "    <path d=\"M18.56 5.44l.94 2.06.94-2.06 2.06-.94-2.06-.94-.94-2.06-.94 2.06-2.06.94zm-11 1L8.5 8.5l.94-2.06 2.06-.94-2.06-.94L8.5 2.5l-.94 2.06-2.06.94zm10 10l.94 2.06.94-2.06 2.06-.94-2.06-.94-.94-2.06-.94 2.06-2.06.94z\"/><path d=\"M17.41 7.96l-1.37-1.37c-.4-.4-.92-.59-1.43-.59-.52 0-1.04.2-1.43.59L10.3 9.45l-7.72 7.72c-.78.78-.78 2.05 0 2.83L4 21.41c.39.39.9.59 1.41.59.51 0 1.02-.2 1.41-.59l7.78-7.78 2.81-2.81c.8-.78.8-2.07 0-2.86zM5.41 20L4 18.59l7.72-7.72 1.47 1.35L5.41 20z\"/>\n",
              "  </svg>\n",
              "      </button>\n",
              "      \n",
              "  <style>\n",
              "    .colab-df-container {\n",
              "      display:flex;\n",
              "      flex-wrap:wrap;\n",
              "      gap: 12px;\n",
              "    }\n",
              "\n",
              "    .colab-df-convert {\n",
              "      background-color: #E8F0FE;\n",
              "      border: none;\n",
              "      border-radius: 50%;\n",
              "      cursor: pointer;\n",
              "      display: none;\n",
              "      fill: #1967D2;\n",
              "      height: 32px;\n",
              "      padding: 0 0 0 0;\n",
              "      width: 32px;\n",
              "    }\n",
              "\n",
              "    .colab-df-convert:hover {\n",
              "      background-color: #E2EBFA;\n",
              "      box-shadow: 0px 1px 2px rgba(60, 64, 67, 0.3), 0px 1px 3px 1px rgba(60, 64, 67, 0.15);\n",
              "      fill: #174EA6;\n",
              "    }\n",
              "\n",
              "    [theme=dark] .colab-df-convert {\n",
              "      background-color: #3B4455;\n",
              "      fill: #D2E3FC;\n",
              "    }\n",
              "\n",
              "    [theme=dark] .colab-df-convert:hover {\n",
              "      background-color: #434B5C;\n",
              "      box-shadow: 0px 1px 3px 1px rgba(0, 0, 0, 0.15);\n",
              "      filter: drop-shadow(0px 1px 2px rgba(0, 0, 0, 0.3));\n",
              "      fill: #FFFFFF;\n",
              "    }\n",
              "  </style>\n",
              "\n",
              "      <script>\n",
              "        const buttonEl =\n",
              "          document.querySelector('#df-85828127-bd8e-49f0-97cf-efe01bab3ef2 button.colab-df-convert');\n",
              "        buttonEl.style.display =\n",
              "          google.colab.kernel.accessAllowed ? 'block' : 'none';\n",
              "\n",
              "        async function convertToInteractive(key) {\n",
              "          const element = document.querySelector('#df-85828127-bd8e-49f0-97cf-efe01bab3ef2');\n",
              "          const dataTable =\n",
              "            await google.colab.kernel.invokeFunction('convertToInteractive',\n",
              "                                                     [key], {});\n",
              "          if (!dataTable) return;\n",
              "\n",
              "          const docLinkHtml = 'Like what you see? Visit the ' +\n",
              "            '<a target=\"_blank\" href=https://colab.research.google.com/notebooks/data_table.ipynb>data table notebook</a>'\n",
              "            + ' to learn more about interactive tables.';\n",
              "          element.innerHTML = '';\n",
              "          dataTable['output_type'] = 'display_data';\n",
              "          await google.colab.output.renderOutput(dataTable, element);\n",
              "          const docLink = document.createElement('div');\n",
              "          docLink.innerHTML = docLinkHtml;\n",
              "          element.appendChild(docLink);\n",
              "        }\n",
              "      </script>\n",
              "    </div>\n",
              "  </div>\n",
              "  "
            ]
          },
          "metadata": {},
          "execution_count": 3
        }
      ]
    },
    {
      "cell_type": "markdown",
      "source": [
        "We wil have to scale the data as they are in differet scales. We will also befropping the DATE columsn"
      ],
      "metadata": {
        "id": "sXpAomQxuQVP"
      }
    },
    {
      "cell_type": "code",
      "source": [
        "merged_data = merged_data.drop(columns=['DATE'])"
      ],
      "metadata": {
        "id": "GnjcT-6OuQDu"
      },
      "execution_count": null,
      "outputs": []
    },
    {
      "cell_type": "code",
      "source": [
        "merged_data.columns"
      ],
      "metadata": {
        "colab": {
          "base_uri": "https://localhost:8080/"
        },
        "id": "of-Psh8Ru0aC",
        "outputId": "1c076ff8-8495-4add-992d-a5d698f8bce7"
      },
      "execution_count": null,
      "outputs": [
        {
          "output_type": "execute_result",
          "data": {
            "text/plain": [
              "Index(['ASPUS', 'PersonNumber', 'GDP', 'Mortgage', 'House', 'PRAWMINDEXM',\n",
              "       'Unemployment ', 'Permit'],\n",
              "      dtype='object')"
            ]
          },
          "metadata": {},
          "execution_count": 5
        }
      ]
    },
    {
      "cell_type": "code",
      "source": [
        "X = merged_data"
      ],
      "metadata": {
        "id": "AcN9tBXjAQkn"
      },
      "execution_count": null,
      "outputs": []
    },
    {
      "cell_type": "code",
      "source": [
        "from sklearn.preprocessing import MinMaxScaler,normalize\n"
      ],
      "metadata": {
        "id": "dW5k94jwuek3"
      },
      "execution_count": null,
      "outputs": []
    },
    {
      "cell_type": "code",
      "source": [
        "X = normalize(X)"
      ],
      "metadata": {
        "id": "c-3yrHKjzeUx"
      },
      "execution_count": null,
      "outputs": []
    },
    {
      "cell_type": "code",
      "source": [
        "scaler = MinMaxScaler(feature_range=(0,1))"
      ],
      "metadata": {
        "id": "wXl6K4AQunpC"
      },
      "execution_count": null,
      "outputs": []
    },
    {
      "cell_type": "code",
      "source": [
        "scaler.fit(X)"
      ],
      "metadata": {
        "colab": {
          "base_uri": "https://localhost:8080/"
        },
        "id": "n6dFxlKtuutU",
        "outputId": "34eb8f87-8bf8-4563-c997-9ea65588c43e"
      },
      "execution_count": null,
      "outputs": [
        {
          "output_type": "execute_result",
          "data": {
            "text/plain": [
              "MinMaxScaler()"
            ]
          },
          "metadata": {},
          "execution_count": 39
        }
      ]
    },
    {
      "cell_type": "code",
      "source": [
        "scaled_data = scaler.transform(X)"
      ],
      "metadata": {
        "id": "Bnyvm5uRvM1a"
      },
      "execution_count": null,
      "outputs": []
    },
    {
      "cell_type": "code",
      "source": [
        "scaled_data"
      ],
      "metadata": {
        "colab": {
          "base_uri": "https://localhost:8080/"
        },
        "id": "Gi2Xo9xTvSYR",
        "outputId": "2624eb4e-e4ca-4ef1-9b2b-5523d3c79a92"
      },
      "execution_count": null,
      "outputs": [
        {
          "output_type": "execute_result",
          "data": {
            "text/plain": [
              "array([[0.00000000e+00, 1.00000000e+00, 0.00000000e+00, ...,\n",
              "        2.78836828e-01, 1.70413887e-01, 3.20365536e-01],\n",
              "       [1.19538040e-02, 9.94287505e-01, 1.97328945e-04, ...,\n",
              "        4.81636863e-01, 3.56994387e-01, 4.24981971e-01],\n",
              "       [2.57726836e-02, 9.87499220e-01, 2.11710030e-03, ...,\n",
              "        4.81636830e-01, 3.56994363e-01, 4.24981954e-01],\n",
              "       ...,\n",
              "       [9.15269169e-01, 1.25594679e-01, 9.82568507e-01, ...,\n",
              "        4.81632552e-01, 3.56991217e-01, 4.24979700e-01],\n",
              "       [1.00000000e+00, 0.00000000e+00, 1.00000000e+00, ...,\n",
              "        4.81631929e-01, 3.56990758e-01, 4.24979371e-01],\n",
              "       [8.52243037e-01, 2.14197716e-01, 9.16468941e-01, ...,\n",
              "        4.33145572e-01, 1.80145171e-02, 4.77838575e-01]])"
            ]
          },
          "metadata": {},
          "execution_count": 41
        }
      ]
    },
    {
      "cell_type": "markdown",
      "source": [
        "We will now also read the target variables"
      ],
      "metadata": {
        "id": "3Uw3xUBHvVrS"
      }
    },
    {
      "cell_type": "code",
      "source": [
        "target_y = pd.read_csv('/content/drive/MyDrive/SJSU assignment Docs/Spring 22/CMPE 257/Project Data/Factors affecting US house prices/Housing_price_index(given).csv')"
      ],
      "metadata": {
        "id": "3cg7LBxhvUKs"
      },
      "execution_count": null,
      "outputs": []
    },
    {
      "cell_type": "code",
      "source": [
        "target_y.shape"
      ],
      "metadata": {
        "colab": {
          "base_uri": "https://localhost:8080/"
        },
        "id": "KEKAyeDOAb9q",
        "outputId": "555bef5d-2ff7-44a7-8f2b-5012a80205bd"
      },
      "execution_count": null,
      "outputs": [
        {
          "output_type": "execute_result",
          "data": {
            "text/plain": [
              "(408, 2)"
            ]
          },
          "metadata": {},
          "execution_count": 13
        }
      ]
    },
    {
      "cell_type": "code",
      "source": [
        "target_y.head(10)"
      ],
      "metadata": {
        "colab": {
          "base_uri": "https://localhost:8080/",
          "height": 363
        },
        "id": "5oLvI-irAjK2",
        "outputId": "e85e9696-9249-4d93-cc08-6d56f27cecae"
      },
      "execution_count": null,
      "outputs": [
        {
          "output_type": "execute_result",
          "data": {
            "text/plain": [
              "         DATE  CSUSHPISA\n",
              "0  1987-01-01     63.965\n",
              "1  1987-02-01     64.425\n",
              "2  1987-03-01     64.736\n",
              "3  1987-04-01     65.135\n",
              "4  1987-05-01     65.569\n",
              "5  1987-06-01     66.076\n",
              "6  1987-07-01     66.509\n",
              "7  1987-08-01     66.938\n",
              "8  1987-09-01     67.331\n",
              "9  1987-10-01     67.740"
            ],
            "text/html": [
              "\n",
              "  <div id=\"df-315043d6-4c4a-4250-9f91-d665d42e5573\">\n",
              "    <div class=\"colab-df-container\">\n",
              "      <div>\n",
              "<style scoped>\n",
              "    .dataframe tbody tr th:only-of-type {\n",
              "        vertical-align: middle;\n",
              "    }\n",
              "\n",
              "    .dataframe tbody tr th {\n",
              "        vertical-align: top;\n",
              "    }\n",
              "\n",
              "    .dataframe thead th {\n",
              "        text-align: right;\n",
              "    }\n",
              "</style>\n",
              "<table border=\"1\" class=\"dataframe\">\n",
              "  <thead>\n",
              "    <tr style=\"text-align: right;\">\n",
              "      <th></th>\n",
              "      <th>DATE</th>\n",
              "      <th>CSUSHPISA</th>\n",
              "    </tr>\n",
              "  </thead>\n",
              "  <tbody>\n",
              "    <tr>\n",
              "      <th>0</th>\n",
              "      <td>1987-01-01</td>\n",
              "      <td>63.965</td>\n",
              "    </tr>\n",
              "    <tr>\n",
              "      <th>1</th>\n",
              "      <td>1987-02-01</td>\n",
              "      <td>64.425</td>\n",
              "    </tr>\n",
              "    <tr>\n",
              "      <th>2</th>\n",
              "      <td>1987-03-01</td>\n",
              "      <td>64.736</td>\n",
              "    </tr>\n",
              "    <tr>\n",
              "      <th>3</th>\n",
              "      <td>1987-04-01</td>\n",
              "      <td>65.135</td>\n",
              "    </tr>\n",
              "    <tr>\n",
              "      <th>4</th>\n",
              "      <td>1987-05-01</td>\n",
              "      <td>65.569</td>\n",
              "    </tr>\n",
              "    <tr>\n",
              "      <th>5</th>\n",
              "      <td>1987-06-01</td>\n",
              "      <td>66.076</td>\n",
              "    </tr>\n",
              "    <tr>\n",
              "      <th>6</th>\n",
              "      <td>1987-07-01</td>\n",
              "      <td>66.509</td>\n",
              "    </tr>\n",
              "    <tr>\n",
              "      <th>7</th>\n",
              "      <td>1987-08-01</td>\n",
              "      <td>66.938</td>\n",
              "    </tr>\n",
              "    <tr>\n",
              "      <th>8</th>\n",
              "      <td>1987-09-01</td>\n",
              "      <td>67.331</td>\n",
              "    </tr>\n",
              "    <tr>\n",
              "      <th>9</th>\n",
              "      <td>1987-10-01</td>\n",
              "      <td>67.740</td>\n",
              "    </tr>\n",
              "  </tbody>\n",
              "</table>\n",
              "</div>\n",
              "      <button class=\"colab-df-convert\" onclick=\"convertToInteractive('df-315043d6-4c4a-4250-9f91-d665d42e5573')\"\n",
              "              title=\"Convert this dataframe to an interactive table.\"\n",
              "              style=\"display:none;\">\n",
              "        \n",
              "  <svg xmlns=\"http://www.w3.org/2000/svg\" height=\"24px\"viewBox=\"0 0 24 24\"\n",
              "       width=\"24px\">\n",
              "    <path d=\"M0 0h24v24H0V0z\" fill=\"none\"/>\n",
              "    <path d=\"M18.56 5.44l.94 2.06.94-2.06 2.06-.94-2.06-.94-.94-2.06-.94 2.06-2.06.94zm-11 1L8.5 8.5l.94-2.06 2.06-.94-2.06-.94L8.5 2.5l-.94 2.06-2.06.94zm10 10l.94 2.06.94-2.06 2.06-.94-2.06-.94-.94-2.06-.94 2.06-2.06.94z\"/><path d=\"M17.41 7.96l-1.37-1.37c-.4-.4-.92-.59-1.43-.59-.52 0-1.04.2-1.43.59L10.3 9.45l-7.72 7.72c-.78.78-.78 2.05 0 2.83L4 21.41c.39.39.9.59 1.41.59.51 0 1.02-.2 1.41-.59l7.78-7.78 2.81-2.81c.8-.78.8-2.07 0-2.86zM5.41 20L4 18.59l7.72-7.72 1.47 1.35L5.41 20z\"/>\n",
              "  </svg>\n",
              "      </button>\n",
              "      \n",
              "  <style>\n",
              "    .colab-df-container {\n",
              "      display:flex;\n",
              "      flex-wrap:wrap;\n",
              "      gap: 12px;\n",
              "    }\n",
              "\n",
              "    .colab-df-convert {\n",
              "      background-color: #E8F0FE;\n",
              "      border: none;\n",
              "      border-radius: 50%;\n",
              "      cursor: pointer;\n",
              "      display: none;\n",
              "      fill: #1967D2;\n",
              "      height: 32px;\n",
              "      padding: 0 0 0 0;\n",
              "      width: 32px;\n",
              "    }\n",
              "\n",
              "    .colab-df-convert:hover {\n",
              "      background-color: #E2EBFA;\n",
              "      box-shadow: 0px 1px 2px rgba(60, 64, 67, 0.3), 0px 1px 3px 1px rgba(60, 64, 67, 0.15);\n",
              "      fill: #174EA6;\n",
              "    }\n",
              "\n",
              "    [theme=dark] .colab-df-convert {\n",
              "      background-color: #3B4455;\n",
              "      fill: #D2E3FC;\n",
              "    }\n",
              "\n",
              "    [theme=dark] .colab-df-convert:hover {\n",
              "      background-color: #434B5C;\n",
              "      box-shadow: 0px 1px 3px 1px rgba(0, 0, 0, 0.15);\n",
              "      filter: drop-shadow(0px 1px 2px rgba(0, 0, 0, 0.3));\n",
              "      fill: #FFFFFF;\n",
              "    }\n",
              "  </style>\n",
              "\n",
              "      <script>\n",
              "        const buttonEl =\n",
              "          document.querySelector('#df-315043d6-4c4a-4250-9f91-d665d42e5573 button.colab-df-convert');\n",
              "        buttonEl.style.display =\n",
              "          google.colab.kernel.accessAllowed ? 'block' : 'none';\n",
              "\n",
              "        async function convertToInteractive(key) {\n",
              "          const element = document.querySelector('#df-315043d6-4c4a-4250-9f91-d665d42e5573');\n",
              "          const dataTable =\n",
              "            await google.colab.kernel.invokeFunction('convertToInteractive',\n",
              "                                                     [key], {});\n",
              "          if (!dataTable) return;\n",
              "\n",
              "          const docLinkHtml = 'Like what you see? Visit the ' +\n",
              "            '<a target=\"_blank\" href=https://colab.research.google.com/notebooks/data_table.ipynb>data table notebook</a>'\n",
              "            + ' to learn more about interactive tables.';\n",
              "          element.innerHTML = '';\n",
              "          dataTable['output_type'] = 'display_data';\n",
              "          await google.colab.output.renderOutput(dataTable, element);\n",
              "          const docLink = document.createElement('div');\n",
              "          docLink.innerHTML = docLinkHtml;\n",
              "          element.appendChild(docLink);\n",
              "        }\n",
              "      </script>\n",
              "    </div>\n",
              "  </div>\n",
              "  "
            ]
          },
          "metadata": {},
          "execution_count": 14
        }
      ]
    },
    {
      "cell_type": "code",
      "source": [
        "X.shape"
      ],
      "metadata": {
        "colab": {
          "base_uri": "https://localhost:8080/"
        },
        "id": "1CQejV49Asi2",
        "outputId": "a31fb324-c207-4c81-a573-d0025269901c"
      },
      "execution_count": null,
      "outputs": [
        {
          "output_type": "execute_result",
          "data": {
            "text/plain": [
              "(232, 8)"
            ]
          },
          "metadata": {},
          "execution_count": 15
        }
      ]
    },
    {
      "cell_type": "code",
      "source": [
        "def monthly_to_quarterly(df):\n",
        "  temp_data = df[ : :3]\n",
        "  temp_data.reset_index()\n",
        "  return temp_data"
      ],
      "metadata": {
        "id": "Dei23OafBDSz"
      },
      "execution_count": null,
      "outputs": []
    },
    {
      "cell_type": "code",
      "source": [
        "target_y = monthly_to_quarterly(target_y)"
      ],
      "metadata": {
        "id": "K86DayDzBD9O"
      },
      "execution_count": null,
      "outputs": []
    },
    {
      "cell_type": "code",
      "source": [
        "target_y.shape"
      ],
      "metadata": {
        "colab": {
          "base_uri": "https://localhost:8080/"
        },
        "id": "xFa5_F2bBI2a",
        "outputId": "93a687f1-ffef-40ab-8668-edfa0b1ee12e"
      },
      "execution_count": null,
      "outputs": [
        {
          "output_type": "execute_result",
          "data": {
            "text/plain": [
              "(136, 2)"
            ]
          },
          "metadata": {},
          "execution_count": 18
        }
      ]
    },
    {
      "cell_type": "code",
      "source": [
        "X = X.iloc[-136: , :]"
      ],
      "metadata": {
        "id": "mAZpa_YIBMym"
      },
      "execution_count": null,
      "outputs": []
    },
    {
      "cell_type": "code",
      "source": [
        "target_y=target_y.iloc[: , 1]"
      ],
      "metadata": {
        "id": "inlK_rkACwlq"
      },
      "execution_count": null,
      "outputs": []
    },
    {
      "cell_type": "code",
      "source": [
        "from sklearn.model_selection import train_test_split"
      ],
      "metadata": {
        "id": "h4PnmfBMBd9u"
      },
      "execution_count": null,
      "outputs": []
    },
    {
      "cell_type": "code",
      "source": [
        "X_train, X_test, y_train, y_test = train_test_split(X, target_y, test_size=0.20, random_state=42)"
      ],
      "metadata": {
        "id": "BsvIFaaiBuci"
      },
      "execution_count": null,
      "outputs": []
    },
    {
      "cell_type": "code",
      "source": [
        "print(X_train.shape)\n",
        "print(X_test.shape)\n",
        "print(y_train.shape)\n",
        "print(y_test.shape)"
      ],
      "metadata": {
        "colab": {
          "base_uri": "https://localhost:8080/"
        },
        "id": "ZrfoeBrWCVjd",
        "outputId": "8137c823-e288-4423-ca24-b354b19ddf69"
      },
      "execution_count": null,
      "outputs": [
        {
          "output_type": "stream",
          "name": "stdout",
          "text": [
            "(108, 8)\n",
            "(28, 8)\n",
            "(108,)\n",
            "(28,)\n"
          ]
        }
      ]
    },
    {
      "cell_type": "markdown",
      "source": [
        "We have the training and testing data split randomly. Test Size is 20%. We also have more data to validate"
      ],
      "metadata": {
        "id": "8mPw9TeNB5hu"
      }
    },
    {
      "cell_type": "markdown",
      "source": [
        "Building the model using keras"
      ],
      "metadata": {
        "id": "7Ko42nUcCCS-"
      }
    },
    {
      "cell_type": "code",
      "source": [
        "from keras.models import Sequential\n",
        "from keras.layers import Dense,InputLayer\n",
        "\n"
      ],
      "metadata": {
        "id": "CXYcW29mCBia"
      },
      "execution_count": null,
      "outputs": []
    },
    {
      "cell_type": "code",
      "source": [
        "\n",
        "from keras.activations import relu,sigmoid,linear\n",
        "model = Sequential()\n",
        "\n",
        "model.add(Dense(32, activation = relu , input_dim=8))\n",
        "model.add(Dense(12, activation = relu))\n",
        "model.add(Dense(12, activation = linear))\n",
        "model.add(Dense(1))\n"
      ],
      "metadata": {
        "id": "UUDxznTMDAfu"
      },
      "execution_count": null,
      "outputs": []
    },
    {
      "cell_type": "code",
      "source": [
        "model.summary()"
      ],
      "metadata": {
        "colab": {
          "base_uri": "https://localhost:8080/"
        },
        "id": "2tsNhymbtdG6",
        "outputId": "bd77b940-e3c2-45e6-d2dc-9f7d289ec5eb"
      },
      "execution_count": null,
      "outputs": [
        {
          "output_type": "stream",
          "name": "stdout",
          "text": [
            "Model: \"sequential_4\"\n",
            "_________________________________________________________________\n",
            " Layer (type)                Output Shape              Param #   \n",
            "=================================================================\n",
            " dense_16 (Dense)            (None, 32)                288       \n",
            "                                                                 \n",
            " dense_17 (Dense)            (None, 12)                396       \n",
            "                                                                 \n",
            " dense_18 (Dense)            (None, 12)                156       \n",
            "                                                                 \n",
            " dense_19 (Dense)            (None, 1)                 13        \n",
            "                                                                 \n",
            "=================================================================\n",
            "Total params: 853\n",
            "Trainable params: 853\n",
            "Non-trainable params: 0\n",
            "_________________________________________________________________\n"
          ]
        }
      ]
    },
    {
      "cell_type": "code",
      "source": [
        "model.layers"
      ],
      "metadata": {
        "colab": {
          "base_uri": "https://localhost:8080/"
        },
        "id": "ZSpD-YA6Pdx8",
        "outputId": "6340e2dc-27c1-4d8d-be64-f9089b3b683d"
      },
      "execution_count": null,
      "outputs": [
        {
          "output_type": "execute_result",
          "data": {
            "text/plain": [
              "[<keras.layers.core.dense.Dense at 0x7ff188f5b310>,\n",
              " <keras.layers.core.dense.Dense at 0x7ff188fe33d0>,\n",
              " <keras.layers.core.dense.Dense at 0x7ff188f82dd0>,\n",
              " <keras.layers.core.dense.Dense at 0x7ff184e03390>]"
            ]
          },
          "metadata": {},
          "execution_count": 27
        }
      ]
    },
    {
      "cell_type": "code",
      "source": [
        "from tensorflow import keras"
      ],
      "metadata": {
        "id": "3-7vruUAus3G"
      },
      "execution_count": null,
      "outputs": []
    },
    {
      "cell_type": "code",
      "source": [
        "\n",
        "model.compile(loss='mean_squared_error', optimizer= tf.keras.optimizers.Adam(learning_rate=0.001) , metrics=['mae'])"
      ],
      "metadata": {
        "id": "6Y0YNL8iGNlS"
      },
      "execution_count": null,
      "outputs": []
    },
    {
      "cell_type": "code",
      "source": [
        "history = model.fit(X_train, y_train, epochs=40)"
      ],
      "metadata": {
        "colab": {
          "base_uri": "https://localhost:8080/"
        },
        "id": "dqwdk2YMGjSx",
        "outputId": "54b8e701-1e44-467a-deb3-29d3c9871275"
      },
      "execution_count": null,
      "outputs": [
        {
          "output_type": "stream",
          "name": "stdout",
          "text": [
            "Epoch 1/40\n",
            "4/4 [==============================] - 1s 3ms/step - loss: 19757.1348 - mae: 132.7734\n",
            "Epoch 2/40\n",
            "4/4 [==============================] - 0s 3ms/step - loss: 19732.7637 - mae: 132.6805\n",
            "Epoch 3/40\n",
            "4/4 [==============================] - 0s 3ms/step - loss: 19708.5117 - mae: 132.5897\n",
            "Epoch 4/40\n",
            "4/4 [==============================] - 0s 3ms/step - loss: 19685.4160 - mae: 132.5032\n",
            "Epoch 5/40\n",
            "4/4 [==============================] - 0s 4ms/step - loss: 19663.4668 - mae: 132.4200\n",
            "Epoch 6/40\n",
            "4/4 [==============================] - 0s 2ms/step - loss: 19640.8418 - mae: 132.3357\n",
            "Epoch 7/40\n",
            "4/4 [==============================] - 0s 3ms/step - loss: 19618.2500 - mae: 132.2496\n",
            "Epoch 8/40\n",
            "4/4 [==============================] - 0s 3ms/step - loss: 19594.9355 - mae: 132.1594\n",
            "Epoch 9/40\n",
            "4/4 [==============================] - 0s 3ms/step - loss: 19571.2383 - mae: 132.0721\n",
            "Epoch 10/40\n",
            "4/4 [==============================] - 0s 4ms/step - loss: 19548.8789 - mae: 131.9873\n",
            "Epoch 11/40\n",
            "4/4 [==============================] - 0s 2ms/step - loss: 19525.3594 - mae: 131.8972\n",
            "Epoch 12/40\n",
            "4/4 [==============================] - 0s 2ms/step - loss: 19499.3262 - mae: 131.7989\n",
            "Epoch 13/40\n",
            "4/4 [==============================] - 0s 3ms/step - loss: 19471.3164 - mae: 131.6916\n",
            "Epoch 14/40\n",
            "4/4 [==============================] - 0s 3ms/step - loss: 19441.0371 - mae: 131.5762\n",
            "Epoch 15/40\n",
            "4/4 [==============================] - 0s 3ms/step - loss: 19408.7500 - mae: 131.4546\n",
            "Epoch 16/40\n",
            "4/4 [==============================] - 0s 2ms/step - loss: 19373.8965 - mae: 131.3237\n",
            "Epoch 17/40\n",
            "4/4 [==============================] - 0s 3ms/step - loss: 19337.2734 - mae: 131.1808\n",
            "Epoch 18/40\n",
            "4/4 [==============================] - 0s 3ms/step - loss: 19296.2148 - mae: 131.0264\n",
            "Epoch 19/40\n",
            "4/4 [==============================] - 0s 4ms/step - loss: 19252.6152 - mae: 130.8600\n",
            "Epoch 20/40\n",
            "4/4 [==============================] - 0s 3ms/step - loss: 19205.6777 - mae: 130.6798\n",
            "Epoch 21/40\n",
            "4/4 [==============================] - 0s 2ms/step - loss: 19154.5273 - mae: 130.4856\n",
            "Epoch 22/40\n",
            "4/4 [==============================] - 0s 4ms/step - loss: 19099.4668 - mae: 130.2759\n",
            "Epoch 23/40\n",
            "4/4 [==============================] - 0s 3ms/step - loss: 19039.9922 - mae: 130.0495\n",
            "Epoch 24/40\n",
            "4/4 [==============================] - 0s 3ms/step - loss: 18976.7422 - mae: 129.8046\n",
            "Epoch 25/40\n",
            "4/4 [==============================] - 0s 2ms/step - loss: 18908.9414 - mae: 129.5396\n",
            "Epoch 26/40\n",
            "4/4 [==============================] - 0s 3ms/step - loss: 18835.1211 - mae: 129.2549\n",
            "Epoch 27/40\n",
            "4/4 [==============================] - 0s 3ms/step - loss: 18756.4258 - mae: 128.9503\n",
            "Epoch 28/40\n",
            "4/4 [==============================] - 0s 4ms/step - loss: 18672.6094 - mae: 128.6244\n",
            "Epoch 29/40\n",
            "4/4 [==============================] - 0s 3ms/step - loss: 18583.2129 - mae: 128.2737\n",
            "Epoch 30/40\n",
            "4/4 [==============================] - 0s 3ms/step - loss: 18484.3672 - mae: 127.8903\n",
            "Epoch 31/40\n",
            "4/4 [==============================] - 0s 3ms/step - loss: 18374.0762 - mae: 127.4672\n",
            "Epoch 32/40\n",
            "4/4 [==============================] - 0s 4ms/step - loss: 18258.1035 - mae: 127.0027\n",
            "Epoch 33/40\n",
            "4/4 [==============================] - 0s 3ms/step - loss: 18131.0137 - mae: 126.4948\n",
            "Epoch 34/40\n",
            "4/4 [==============================] - 0s 3ms/step - loss: 17990.8262 - mae: 125.9466\n",
            "Epoch 35/40\n",
            "4/4 [==============================] - 0s 3ms/step - loss: 17841.7598 - mae: 125.3536\n",
            "Epoch 36/40\n",
            "4/4 [==============================] - 0s 3ms/step - loss: 17680.7539 - mae: 124.7095\n",
            "Epoch 37/40\n",
            "4/4 [==============================] - 0s 4ms/step - loss: 17507.6523 - mae: 124.0096\n",
            "Epoch 38/40\n",
            "4/4 [==============================] - 0s 3ms/step - loss: 17318.3711 - mae: 123.2557\n",
            "Epoch 39/40\n",
            "4/4 [==============================] - 0s 3ms/step - loss: 17119.5469 - mae: 122.4476\n",
            "Epoch 40/40\n",
            "4/4 [==============================] - 0s 3ms/step - loss: 16908.4922 - mae: 121.5722\n"
          ]
        }
      ]
    },
    {
      "cell_type": "code",
      "source": [
        "history"
      ],
      "metadata": {
        "colab": {
          "base_uri": "https://localhost:8080/"
        },
        "id": "PoMru_IsMb4s",
        "outputId": "e507871b-cffe-4eee-ad34-e13c1f371e8d"
      },
      "execution_count": null,
      "outputs": [
        {
          "output_type": "execute_result",
          "data": {
            "text/plain": [
              "<keras.callbacks.History at 0x7ff184970cd0>"
            ]
          },
          "metadata": {},
          "execution_count": 31
        }
      ]
    },
    {
      "cell_type": "code",
      "source": [
        "train_mse = model.evaluate(X_train, y_train)\n",
        "test_mse = model.evaluate(X_test, y_test)"
      ],
      "metadata": {
        "colab": {
          "base_uri": "https://localhost:8080/"
        },
        "id": "NBhpDMdbG6d9",
        "outputId": "0420c06f-b207-4200-d11c-a9330a0cfbec"
      },
      "execution_count": null,
      "outputs": [
        {
          "output_type": "stream",
          "name": "stdout",
          "text": [
            "4/4 [==============================] - 0s 2ms/step - loss: 16750.5664 - mae: 120.9232\n",
            "1/1 [==============================] - 0s 17ms/step - loss: 13810.1475 - mae: 107.6563\n"
          ]
        }
      ]
    },
    {
      "cell_type": "code",
      "source": [
        "train_mse"
      ],
      "metadata": {
        "colab": {
          "base_uri": "https://localhost:8080/"
        },
        "id": "GmlZOYZxG-bp",
        "outputId": "21032144-5882-4e7b-a625-499ed1cf65cd"
      },
      "execution_count": null,
      "outputs": [
        {
          "output_type": "execute_result",
          "data": {
            "text/plain": [
              "[16750.56640625, 120.9231948852539]"
            ]
          },
          "metadata": {},
          "execution_count": 56
        }
      ]
    },
    {
      "cell_type": "code",
      "source": [
        "y_pred = model.predict(X_test)"
      ],
      "metadata": {
        "id": "baEAcHJVG_It"
      },
      "execution_count": null,
      "outputs": []
    }
  ]
}