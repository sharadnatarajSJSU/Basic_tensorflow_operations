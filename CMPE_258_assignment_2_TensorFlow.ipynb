{
  "nbformat": 4,
  "nbformat_minor": 0,
  "metadata": {
    "colab": {
      "name": "CMPE 258 assignment #2 - TensorFlow",
      "provenance": [],
      "authorship_tag": "ABX9TyMgO3qlSNs5W0oRuElfnZKD",
      "include_colab_link": true
    },
    "kernelspec": {
      "name": "python3",
      "display_name": "Python 3"
    },
    "language_info": {
      "name": "python"
    }
  },
  "cells": [
    {
      "cell_type": "markdown",
      "metadata": {
        "id": "view-in-github",
        "colab_type": "text"
      },
      "source": [
        "<a href=\"https://colab.research.google.com/github/sharadnatarajSJSU/Basic_tensorflow_operations/blob/main/CMPE_258_assignment_2_TensorFlow.ipynb\" target=\"_parent\"><img src=\"https://colab.research.google.com/assets/colab-badge.svg\" alt=\"Open In Colab\"/></a>"
      ]
    },
    {
      "cell_type": "code",
      "execution_count": 1,
      "metadata": {
        "id": "-CKhtWK6PFtz"
      },
      "outputs": [],
      "source": [
        "import tensorflow as tf\n",
        "import numpy as np"
      ]
    },
    {
      "cell_type": "markdown",
      "source": [
        "#Displaying basic types of tensors"
      ],
      "metadata": {
        "id": "kHR8wrWOP3Db"
      }
    },
    {
      "cell_type": "markdown",
      "source": [
        "Scalar tensor or rank 0 "
      ],
      "metadata": {
        "id": "SpXYQk5oP8NH"
      }
    },
    {
      "cell_type": "code",
      "source": [
        "tensor_0 = tf.constant(8)\n",
        "print(tensor_0)"
      ],
      "metadata": {
        "colab": {
          "base_uri": "https://localhost:8080/"
        },
        "id": "I5eIEDWrP-yH",
        "outputId": "61193339-5ffa-4862-f56b-d10885e0a46d"
      },
      "execution_count": 2,
      "outputs": [
        {
          "output_type": "stream",
          "name": "stdout",
          "text": [
            "tf.Tensor(8, shape=(), dtype=int32)\n"
          ]
        }
      ]
    },
    {
      "cell_type": "markdown",
      "source": [
        "rank 1, Rank 2 and rank 3 Tensors"
      ],
      "metadata": {
        "id": "iKql8SBoQERo"
      }
    },
    {
      "cell_type": "code",
      "source": [
        "print(\"rank 1 tensor\")\n",
        "tensor_1 = tf.constant([1.0,3.2,4.5,6.8])\n",
        "print(tensor_1)"
      ],
      "metadata": {
        "colab": {
          "base_uri": "https://localhost:8080/"
        },
        "id": "8JRfxbNzQG-j",
        "outputId": "1b7be01e-7a80-4ff1-e681-41441d4dcddc"
      },
      "execution_count": 3,
      "outputs": [
        {
          "output_type": "stream",
          "name": "stdout",
          "text": [
            "rank 1 tensor\n",
            "tf.Tensor([1.  3.2 4.5 6.8], shape=(4,), dtype=float32)\n"
          ]
        }
      ]
    },
    {
      "cell_type": "code",
      "source": [
        "print(\"rank 2 tensor\")\n",
        "tensor_2 = tf.constant([[2,2],\n",
        "                        [2,1],\n",
        "                        [3,6],\n",
        "                        [4,8],\n",
        "                        [5,11]],)\n",
        "print(tensor_2)"
      ],
      "metadata": {
        "colab": {
          "base_uri": "https://localhost:8080/"
        },
        "id": "E2N-WVpMQZoL",
        "outputId": "79e72afb-4ab9-462c-9ed3-7f109bb019de"
      },
      "execution_count": 4,
      "outputs": [
        {
          "output_type": "stream",
          "name": "stdout",
          "text": [
            "rank 2 tensor\n",
            "tf.Tensor(\n",
            "[[ 2  2]\n",
            " [ 2  1]\n",
            " [ 3  6]\n",
            " [ 4  8]\n",
            " [ 5 11]], shape=(5, 2), dtype=int32)\n"
          ]
        }
      ]
    },
    {
      "cell_type": "code",
      "source": [
        "print(\"rank 3 tensor\")\n",
        "tensor_3 = tf.constant([\n",
        "  [[0, 1, 2, 3, 4],\n",
        "   [5, 6, 7, 8, 9]],\n",
        "  [[10, 11, 12, 13, 14],\n",
        "   [15, 16, 17, 18, 19]],\n",
        "  [[20, 21, 22, 23, 24],\n",
        "   [25, 26, 27, 28, 29]],])\n",
        "print(tensor_3)"
      ],
      "metadata": {
        "colab": {
          "base_uri": "https://localhost:8080/"
        },
        "id": "v5wSFxajQ1rk",
        "outputId": "8e95921d-a3c5-4263-e4fe-549108b2c2a5"
      },
      "execution_count": 5,
      "outputs": [
        {
          "output_type": "stream",
          "name": "stdout",
          "text": [
            "rank 3 tensor\n",
            "tf.Tensor(\n",
            "[[[ 0  1  2  3  4]\n",
            "  [ 5  6  7  8  9]]\n",
            "\n",
            " [[10 11 12 13 14]\n",
            "  [15 16 17 18 19]]\n",
            "\n",
            " [[20 21 22 23 24]\n",
            "  [25 26 27 28 29]]], shape=(3, 2, 5), dtype=int32)\n"
          ]
        }
      ]
    },
    {
      "cell_type": "markdown",
      "source": [
        "Converting tensor 3 to ndarray"
      ],
      "metadata": {
        "id": "jPZb9zTJQ_xT"
      }
    },
    {
      "cell_type": "code",
      "source": [
        "print(np.array(tensor_3))"
      ],
      "metadata": {
        "colab": {
          "base_uri": "https://localhost:8080/"
        },
        "id": "IHsk-3g8Q_cM",
        "outputId": "9d9e11ce-ddff-45de-83e8-48497a8668dd"
      },
      "execution_count": 6,
      "outputs": [
        {
          "output_type": "stream",
          "name": "stdout",
          "text": [
            "[[[ 0  1  2  3  4]\n",
            "  [ 5  6  7  8  9]]\n",
            "\n",
            " [[10 11 12 13 14]\n",
            "  [15 16 17 18 19]]\n",
            "\n",
            " [[20 21 22 23 24]\n",
            "  [25 26 27 28 29]]]\n"
          ]
        }
      ]
    },
    {
      "cell_type": "markdown",
      "source": [
        "#Indexing"
      ],
      "metadata": {
        "id": "eiq1lDIU3c30"
      }
    },
    {
      "cell_type": "code",
      "source": [
        "tensor_1[0]"
      ],
      "metadata": {
        "colab": {
          "base_uri": "https://localhost:8080/"
        },
        "id": "2egBf6p23C3N",
        "outputId": "37d01553-d8b4-4eb4-a61b-40c6d3908b01"
      },
      "execution_count": 7,
      "outputs": [
        {
          "output_type": "execute_result",
          "data": {
            "text/plain": [
              "<tf.Tensor: shape=(), dtype=float32, numpy=1.0>"
            ]
          },
          "metadata": {},
          "execution_count": 7
        }
      ]
    },
    {
      "cell_type": "markdown",
      "source": [
        "Automatically converts to numpy array"
      ],
      "metadata": {
        "id": "FwJ6ld_53s9Z"
      }
    },
    {
      "cell_type": "markdown",
      "source": [
        "Everything from first element"
      ],
      "metadata": {
        "id": "8d3YFL1C35AB"
      }
    },
    {
      "cell_type": "code",
      "source": [
        "tensor_1[0 :]"
      ],
      "metadata": {
        "colab": {
          "base_uri": "https://localhost:8080/"
        },
        "id": "C7bYVqoW3zpk",
        "outputId": "adc4462b-5ec4-4b51-de86-6b8efce54f80"
      },
      "execution_count": 8,
      "outputs": [
        {
          "output_type": "execute_result",
          "data": {
            "text/plain": [
              "<tf.Tensor: shape=(4,), dtype=float32, numpy=array([1. , 3.2, 4.5, 6.8], dtype=float32)>"
            ]
          },
          "metadata": {},
          "execution_count": 8
        }
      ]
    },
    {
      "cell_type": "markdown",
      "source": [
        "Everything from 2nd to 4th"
      ],
      "metadata": {
        "id": "HEhNb3mu4EKa"
      }
    },
    {
      "cell_type": "code",
      "source": [
        "tensor_1[1 :4]"
      ],
      "metadata": {
        "colab": {
          "base_uri": "https://localhost:8080/"
        },
        "id": "GF-ILrxq38hU",
        "outputId": "c2f0a836-347c-4666-e544-91b0e30f99a7"
      },
      "execution_count": 9,
      "outputs": [
        {
          "output_type": "execute_result",
          "data": {
            "text/plain": [
              "<tf.Tensor: shape=(3,), dtype=float32, numpy=array([3.2, 4.5, 6.8], dtype=float32)>"
            ]
          },
          "metadata": {},
          "execution_count": 9
        }
      ]
    },
    {
      "cell_type": "markdown",
      "source": [
        "Every other element"
      ],
      "metadata": {
        "id": "AQ2xS-5X4MMv"
      }
    },
    {
      "cell_type": "code",
      "source": [
        "tensor_1[: : 2]"
      ],
      "metadata": {
        "colab": {
          "base_uri": "https://localhost:8080/"
        },
        "id": "yH8ty7Hh3_Ns",
        "outputId": "2b40d4c1-dd6e-4c45-9d9a-db23bdb7cb9f"
      },
      "execution_count": 10,
      "outputs": [
        {
          "output_type": "execute_result",
          "data": {
            "text/plain": [
              "<tf.Tensor: shape=(2,), dtype=float32, numpy=array([1. , 4.5], dtype=float32)>"
            ]
          },
          "metadata": {},
          "execution_count": 10
        }
      ]
    },
    {
      "cell_type": "markdown",
      "source": [
        "Multi axis indexing"
      ],
      "metadata": {
        "id": "ncjLpRh84esG"
      }
    },
    {
      "cell_type": "code",
      "source": [
        "tensor_2[1,1]"
      ],
      "metadata": {
        "colab": {
          "base_uri": "https://localhost:8080/"
        },
        "id": "G7PJFiIy4PUK",
        "outputId": "3987afbe-1ae6-4b7e-bac7-69e7259c6218"
      },
      "execution_count": 11,
      "outputs": [
        {
          "output_type": "execute_result",
          "data": {
            "text/plain": [
              "<tf.Tensor: shape=(), dtype=int32, numpy=1>"
            ]
          },
          "metadata": {},
          "execution_count": 11
        }
      ]
    },
    {
      "cell_type": "markdown",
      "source": [
        "Explicit convertion using .numpu() function"
      ],
      "metadata": {
        "id": "1MNuqxBP4umA"
      }
    },
    {
      "cell_type": "code",
      "source": [
        "print(\"Second row:\", tensor_2[1, :].numpy())\n",
        "print(\"Second column:\", tensor_2[:, 1].numpy())\n",
        "print(\"Last row:\", tensor_2[-1, :].numpy())\n",
        "print(\"First item in last column:\", tensor_2[0, -1].numpy())\n",
        "print(\"Skip the first row:\")\n",
        "print(tensor_2[1:, :].numpy(), \"\\n\")"
      ],
      "metadata": {
        "colab": {
          "base_uri": "https://localhost:8080/"
        },
        "id": "elG-D24-4qAL",
        "outputId": "d2217dc2-281e-44ea-f3d2-8cfaebae50d8"
      },
      "execution_count": 12,
      "outputs": [
        {
          "output_type": "stream",
          "name": "stdout",
          "text": [
            "Second row: [2 1]\n",
            "Second column: [ 2  1  6  8 11]\n",
            "Last row: [ 5 11]\n",
            "First item in last column: 2\n",
            "Skip the first row:\n",
            "[[ 2  1]\n",
            " [ 3  6]\n",
            " [ 4  8]\n",
            " [ 5 11]] \n",
            "\n"
          ]
        }
      ]
    },
    {
      "cell_type": "markdown",
      "source": [
        "Rank 3 tensor"
      ],
      "metadata": {
        "id": "gVNMaBxe96zs"
      }
    },
    {
      "cell_type": "code",
      "source": [
        "print(tensor_3[:, :, 4])"
      ],
      "metadata": {
        "colab": {
          "base_uri": "https://localhost:8080/"
        },
        "id": "rvJ3VybB4p4b",
        "outputId": "eef3abbf-1294-479c-b562-c551282ff5f8"
      },
      "execution_count": 13,
      "outputs": [
        {
          "output_type": "stream",
          "name": "stdout",
          "text": [
            "tf.Tensor(\n",
            "[[ 4  9]\n",
            " [14 19]\n",
            " [24 29]], shape=(3, 2), dtype=int32)\n"
          ]
        }
      ]
    },
    {
      "cell_type": "markdown",
      "source": [
        "Reshaping Tensors"
      ],
      "metadata": {
        "id": "t-gOyaAC-H8W"
      }
    },
    {
      "cell_type": "code",
      "source": [
        "tensor_3.shape"
      ],
      "metadata": {
        "colab": {
          "base_uri": "https://localhost:8080/"
        },
        "id": "P-5Sx6rH-FtR",
        "outputId": "8b854fe5-2ee6-4c21-bcc8-9d9e880c572f"
      },
      "execution_count": 14,
      "outputs": [
        {
          "output_type": "execute_result",
          "data": {
            "text/plain": [
              "TensorShape([3, 2, 5])"
            ]
          },
          "metadata": {},
          "execution_count": 14
        }
      ]
    },
    {
      "cell_type": "code",
      "source": [
        "tensor_3_reshaped = tf.reshape(tensor_3,[10,3])"
      ],
      "metadata": {
        "id": "2u_lFqm_-N3m"
      },
      "execution_count": 15,
      "outputs": []
    },
    {
      "cell_type": "code",
      "source": [
        "tensor_3_reshaped.shape"
      ],
      "metadata": {
        "colab": {
          "base_uri": "https://localhost:8080/"
        },
        "id": "DpZNGkkA-ec-",
        "outputId": "be249ce5-acb7-42bd-b14f-c36dc41f3feb"
      },
      "execution_count": 16,
      "outputs": [
        {
          "output_type": "execute_result",
          "data": {
            "text/plain": [
              "TensorShape([10, 3])"
            ]
          },
          "metadata": {},
          "execution_count": 16
        }
      ]
    },
    {
      "cell_type": "code",
      "source": [
        "tensor_3"
      ],
      "metadata": {
        "colab": {
          "base_uri": "https://localhost:8080/"
        },
        "id": "_1IfqzA4-jpa",
        "outputId": "ade0caa7-ca24-43f3-93d2-a2a8966c6bc4"
      },
      "execution_count": 17,
      "outputs": [
        {
          "output_type": "execute_result",
          "data": {
            "text/plain": [
              "<tf.Tensor: shape=(3, 2, 5), dtype=int32, numpy=\n",
              "array([[[ 0,  1,  2,  3,  4],\n",
              "        [ 5,  6,  7,  8,  9]],\n",
              "\n",
              "       [[10, 11, 12, 13, 14],\n",
              "        [15, 16, 17, 18, 19]],\n",
              "\n",
              "       [[20, 21, 22, 23, 24],\n",
              "        [25, 26, 27, 28, 29]]], dtype=int32)>"
            ]
          },
          "metadata": {},
          "execution_count": 17
        }
      ]
    },
    {
      "cell_type": "code",
      "source": [
        "tensor_3_reshaped"
      ],
      "metadata": {
        "colab": {
          "base_uri": "https://localhost:8080/"
        },
        "id": "B2wsASS1-mdu",
        "outputId": "2332e932-037c-4dad-ecdc-7070414bd119"
      },
      "execution_count": 18,
      "outputs": [
        {
          "output_type": "execute_result",
          "data": {
            "text/plain": [
              "<tf.Tensor: shape=(10, 3), dtype=int32, numpy=\n",
              "array([[ 0,  1,  2],\n",
              "       [ 3,  4,  5],\n",
              "       [ 6,  7,  8],\n",
              "       [ 9, 10, 11],\n",
              "       [12, 13, 14],\n",
              "       [15, 16, 17],\n",
              "       [18, 19, 20],\n",
              "       [21, 22, 23],\n",
              "       [24, 25, 26],\n",
              "       [27, 28, 29]], dtype=int32)>"
            ]
          },
          "metadata": {},
          "execution_count": 18
        }
      ]
    },
    {
      "cell_type": "markdown",
      "source": [
        "Broadcasting"
      ],
      "metadata": {
        "id": "IZrxPy_wAcR5"
      }
    },
    {
      "cell_type": "code",
      "source": [
        "new_tensor = tf.multiply(tensor_3,2)"
      ],
      "metadata": {
        "id": "WCv7kidbAIix"
      },
      "execution_count": 19,
      "outputs": []
    },
    {
      "cell_type": "code",
      "source": [
        "new_tensor"
      ],
      "metadata": {
        "colab": {
          "base_uri": "https://localhost:8080/"
        },
        "id": "oo9UKFpYApiC",
        "outputId": "3ae9b775-5aa2-4097-b632-c7e34ae7fd45"
      },
      "execution_count": 20,
      "outputs": [
        {
          "output_type": "execute_result",
          "data": {
            "text/plain": [
              "<tf.Tensor: shape=(3, 2, 5), dtype=int32, numpy=\n",
              "array([[[ 0,  2,  4,  6,  8],\n",
              "        [10, 12, 14, 16, 18]],\n",
              "\n",
              "       [[20, 22, 24, 26, 28],\n",
              "        [30, 32, 34, 36, 38]],\n",
              "\n",
              "       [[40, 42, 44, 46, 48],\n",
              "        [50, 52, 54, 56, 58]]], dtype=int32)>"
            ]
          },
          "metadata": {},
          "execution_count": 20
        }
      ]
    },
    {
      "cell_type": "code",
      "source": [
        "tensor_2"
      ],
      "metadata": {
        "colab": {
          "base_uri": "https://localhost:8080/"
        },
        "id": "N0O4_ChHCUM_",
        "outputId": "420f1d2e-775f-4e5d-c3ae-bafb4de80522"
      },
      "execution_count": 21,
      "outputs": [
        {
          "output_type": "execute_result",
          "data": {
            "text/plain": [
              "<tf.Tensor: shape=(5, 2), dtype=int32, numpy=\n",
              "array([[ 2,  2],\n",
              "       [ 2,  1],\n",
              "       [ 3,  6],\n",
              "       [ 4,  8],\n",
              "       [ 5, 11]], dtype=int32)>"
            ]
          },
          "metadata": {},
          "execution_count": 21
        }
      ]
    },
    {
      "cell_type": "code",
      "source": [
        "tensor_2.shape"
      ],
      "metadata": {
        "colab": {
          "base_uri": "https://localhost:8080/"
        },
        "id": "2JiDhkWBAtKB",
        "outputId": "0327d203-ed0c-48a6-8d64-41aa558c287b"
      },
      "execution_count": 22,
      "outputs": [
        {
          "output_type": "execute_result",
          "data": {
            "text/plain": [
              "TensorShape([5, 2])"
            ]
          },
          "metadata": {},
          "execution_count": 22
        }
      ]
    },
    {
      "cell_type": "code",
      "source": [
        "tensor_2_3 = tf.ones(shape=[5,2],dtype= tf.dtypes.int32)\n"
      ],
      "metadata": {
        "id": "YIKqPWfYA5l9"
      },
      "execution_count": 23,
      "outputs": []
    },
    {
      "cell_type": "code",
      "source": [
        "new_tensor = tf.multiply(tensor_2,tensor_2_3)"
      ],
      "metadata": {
        "id": "-Qtbv5JUBf5p"
      },
      "execution_count": 24,
      "outputs": []
    },
    {
      "cell_type": "markdown",
      "source": [
        "Multiplied with ones. So should get the same tensor"
      ],
      "metadata": {
        "id": "z8q9gPJrCqak"
      }
    },
    {
      "cell_type": "code",
      "source": [
        "new_tensor"
      ],
      "metadata": {
        "colab": {
          "base_uri": "https://localhost:8080/"
        },
        "id": "ija_GiPpCt59",
        "outputId": "be6f09be-83a2-434c-c122-041bcd382270"
      },
      "execution_count": 25,
      "outputs": [
        {
          "output_type": "execute_result",
          "data": {
            "text/plain": [
              "<tf.Tensor: shape=(5, 2), dtype=int32, numpy=\n",
              "array([[ 2,  2],\n",
              "       [ 2,  1],\n",
              "       [ 3,  6],\n",
              "       [ 4,  8],\n",
              "       [ 5, 11]], dtype=int32)>"
            ]
          },
          "metadata": {},
          "execution_count": 25
        }
      ]
    },
    {
      "cell_type": "markdown",
      "source": [
        "Ragged tensor"
      ],
      "metadata": {
        "id": "U67EzhiK574I"
      }
    },
    {
      "cell_type": "code",
      "source": [
        "ragged_list = [\n",
        "    [0, 1, 2, 3],\n",
        "    [4, 5],\n",
        "    [6, 7, 8],\n",
        "    [9]]"
      ],
      "metadata": {
        "id": "P_YJy05lCwPY"
      },
      "execution_count": 26,
      "outputs": []
    },
    {
      "cell_type": "code",
      "source": [
        "ragged_tensor = tf.ragged.constant(ragged_list)"
      ],
      "metadata": {
        "id": "Uf5big5I5-v_"
      },
      "execution_count": 27,
      "outputs": []
    },
    {
      "cell_type": "code",
      "source": [
        "print(ragged_tensor)"
      ],
      "metadata": {
        "colab": {
          "base_uri": "https://localhost:8080/"
        },
        "id": "s7-kkYCV6Po_",
        "outputId": "161d3272-338b-441c-d6f9-3de648fea446"
      },
      "execution_count": 28,
      "outputs": [
        {
          "output_type": "stream",
          "name": "stdout",
          "text": [
            "<tf.RaggedTensor [[0, 1, 2, 3], [4, 5], [6, 7, 8], [9]]>\n"
          ]
        }
      ]
    },
    {
      "cell_type": "markdown",
      "source": [
        "Storing strings in Tensors"
      ],
      "metadata": {
        "id": "-HW9kCHJ6Wcd"
      }
    },
    {
      "cell_type": "code",
      "source": [
        "tensor_strings = tf.constant([\"CMPE 258\",\n",
        "                                 \"Deep Learning\",\n",
        "                                 \"SJSU\"])"
      ],
      "metadata": {
        "id": "rJhvIMDv6UYb"
      },
      "execution_count": 29,
      "outputs": []
    },
    {
      "cell_type": "code",
      "source": [
        "tensor_strings.shape"
      ],
      "metadata": {
        "colab": {
          "base_uri": "https://localhost:8080/"
        },
        "id": "EDWvjg7S6gaw",
        "outputId": "48e704ff-0987-48f5-d997-eb4f5d29be76"
      },
      "execution_count": 30,
      "outputs": [
        {
          "output_type": "execute_result",
          "data": {
            "text/plain": [
              "TensorShape([3])"
            ]
          },
          "metadata": {},
          "execution_count": 30
        }
      ]
    },
    {
      "cell_type": "markdown",
      "source": [
        "Shape is 3 as it is a rank 1 tensor. The dimenssions of the strings are not considered as tensor shape"
      ],
      "metadata": {
        "id": "8UCtO8d_6j87"
      }
    },
    {
      "cell_type": "code",
      "source": [
        "print(tensor_strings)"
      ],
      "metadata": {
        "colab": {
          "base_uri": "https://localhost:8080/"
        },
        "id": "SRu_j-VN6o-4",
        "outputId": "2e6841e1-df1a-499d-b11e-9dcbb7c067d9"
      },
      "execution_count": 31,
      "outputs": [
        {
          "output_type": "stream",
          "name": "stdout",
          "text": [
            "tf.Tensor([b'CMPE 258' b'Deep Learning' b'SJSU'], shape=(3,), dtype=string)\n"
          ]
        }
      ]
    },
    {
      "cell_type": "markdown",
      "source": [
        "#Customization Basics"
      ],
      "metadata": {
        "id": "MW2C4HHL7uCD"
      }
    },
    {
      "cell_type": "markdown",
      "source": [
        "tf.add, tf.square"
      ],
      "metadata": {
        "id": "Udpe1Ffx-dBn"
      }
    },
    {
      "cell_type": "code",
      "source": [
        "print(tf.add(6, 2))\n",
        "print(tf.add([6, 2], [3, 4]))\n",
        "print(tf.square(25))\n",
        "print(tf.reduce_sum([1, 6, 3]))"
      ],
      "metadata": {
        "colab": {
          "base_uri": "https://localhost:8080/"
        },
        "id": "sOapWbah74Iw",
        "outputId": "f51f977f-f0dc-4685-c704-d584adb379d7"
      },
      "execution_count": 32,
      "outputs": [
        {
          "output_type": "stream",
          "name": "stdout",
          "text": [
            "tf.Tensor(8, shape=(), dtype=int32)\n",
            "tf.Tensor([9 6], shape=(2,), dtype=int32)\n",
            "tf.Tensor(625, shape=(), dtype=int32)\n",
            "tf.Tensor(10, shape=(), dtype=int32)\n"
          ]
        }
      ]
    },
    {
      "cell_type": "markdown",
      "source": [
        "using the math operator '+'"
      ],
      "metadata": {
        "id": "BkTDWdkh-o6f"
      }
    },
    {
      "cell_type": "code",
      "source": [
        "print(tf.square(5) + tf.square(12))"
      ],
      "metadata": {
        "colab": {
          "base_uri": "https://localhost:8080/"
        },
        "id": "mMuI0hNG-lhW",
        "outputId": "3008e3ce-b9bd-41f9-c56f-bf7106dea33f"
      },
      "execution_count": 33,
      "outputs": [
        {
          "output_type": "stream",
          "name": "stdout",
          "text": [
            "tf.Tensor(169, shape=(), dtype=int32)\n"
          ]
        }
      ]
    },
    {
      "cell_type": "markdown",
      "source": [
        "As tensors can be considered as matrices we can perform matrix multiplation using tf.matmul"
      ],
      "metadata": {
        "id": "PwkyRyS9-xWu"
      }
    },
    {
      "cell_type": "code",
      "source": [
        "m_mul = tf.matmul([[1,2]], [[2, 3],\n",
        "                          [3,3],])\n",
        "print(m_mul)\n",
        "print(m_mul.shape)\n",
        "print(m_mul.dtype)"
      ],
      "metadata": {
        "colab": {
          "base_uri": "https://localhost:8080/"
        },
        "id": "PVYU2zlN-vf7",
        "outputId": "925f6c2f-4304-4f71-fd64-19921f75e11a"
      },
      "execution_count": 34,
      "outputs": [
        {
          "output_type": "stream",
          "name": "stdout",
          "text": [
            "tf.Tensor([[8 9]], shape=(1, 2), dtype=int32)\n",
            "(1, 2)\n",
            "<dtype: 'int32'>\n"
          ]
        }
      ]
    },
    {
      "cell_type": "markdown",
      "source": [
        "#Using EinSum to perform operations on tensors"
      ],
      "metadata": {
        "id": "ZW2V35CMlnNw"
      }
    },
    {
      "cell_type": "code",
      "source": [
        "def matmul(a,b): return tf.einsum('ik,kj->ij', a, b)"
      ],
      "metadata": {
        "id": "nxkHihPc_UD5"
      },
      "execution_count": 38,
      "outputs": []
    },
    {
      "cell_type": "code",
      "source": [
        "tensor_a =tf.constant([[1,2]])\n",
        "tensor_b =tf.constant([[2, 3],\n",
        "                          [3,3],])"
      ],
      "metadata": {
        "id": "zYBfoFvHl6WH"
      },
      "execution_count": 36,
      "outputs": []
    },
    {
      "cell_type": "code",
      "source": [
        "tensor_matmul = matmul(tensor_a,tensor_b)"
      ],
      "metadata": {
        "id": "GFUvxmMEl10z"
      },
      "execution_count": 39,
      "outputs": []
    },
    {
      "cell_type": "code",
      "source": [
        "tensor_matmul"
      ],
      "metadata": {
        "colab": {
          "base_uri": "https://localhost:8080/"
        },
        "id": "FRnn2otJmLkJ",
        "outputId": "af294b6a-8776-477c-8875-af0a595fc5f3"
      },
      "execution_count": 40,
      "outputs": [
        {
          "output_type": "execute_result",
          "data": {
            "text/plain": [
              "<tf.Tensor: shape=(1, 2), dtype=int32, numpy=array([[8, 9]], dtype=int32)>"
            ]
          },
          "metadata": {},
          "execution_count": 40
        }
      ]
    }
  ]
}